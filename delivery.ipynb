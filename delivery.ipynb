{
 "cells": [
  {
   "cell_type": "code",
   "execution_count": 2,
   "metadata": {},
   "outputs": [],
   "source": [
    "import pandas as pd"
   ]
  },
  {
   "cell_type": "markdown",
   "metadata": {},
   "source": [
    "## Общее описание:\n",
    "Вы работаете продуктовым аналитиком в компании по доставке продуктов на дом. Сервис доступен как в приложении на ios, так и на android. Вы настроили фронтовую аналитику в AppMetrica, и в конце квартала маркетинг-менеджер попросил вас проанализировать поведение пользователей, а также оценить эффективность каналов их привлечения. \n",
    "\n",
    "Вы выгрузили данные из AppMetrica за период с 1 января по 31 марта 2020, только по пользователям, зарегистрированным позднее 1 января 2020.\n",
    "\n",
    "Описание данных \n",
    "\n",
    "- date – дата совершения события\n",
    "\n",
    "- event - событие\n",
    "\n",
    "app_install – установка приложения\n",
    "app_start – открыть приложения\n",
    "register – зарегистрироваться \n",
    "search – перейти на страницу поиска товаров (каталог)\n",
    "open_item – открыть товар\n",
    "choose_item – отправить товар в корзину\n",
    "tap_basket – перейти в корзину\n",
    "purchase – подтверждение покупки\n",
    "- gender – пол пользователя\n",
    "\n",
    "- os_name – платформа пользователя\n",
    "\n",
    "- city – город пользователя\n",
    "\n",
    "- device_id – идентификатор устройства пользователя\n",
    "\n",
    "- urm_source – канал, с которого пришел пользователь\n",
    "\n",
    "yandex-direct – Яндекс директ\n",
    "google_ads – реклама в Google\n",
    "vk_ads – реклама в ВК\n",
    "instagram_ads – реклама в instagram\n",
    "facebook_ads – реклама в facebook\n",
    "referal – акция «приведи друга»\n",
    "Если стоит ‘-’, то канал не определен или это скачивание приложения напрямую или посещение не с рекламы  \n",
    "- purchase_sum – стоимость покупки (при совершении события ‘purchase’)\n",
    "\n",
    "Обратите внимание на следующее:\n",
    "\n",
    "- В выгрузке только уникальные действия пользователей за каждый день \n",
    "\n",
    "- Можно миновать стадию установки приложения, если оно было установлено ранее\n",
    "\n",
    "- Можно миновать стадию регистрации, если пользователь был уже залогинен на момент сессии. Однако незарегистрированные пользователи не могут оформить покупку. "
   ]
  },
  {
   "cell_type": "code",
   "execution_count": 3,
   "metadata": {},
   "outputs": [],
   "source": [
    "df = pd.read_csv('/mnt/HC_Volume_18315164/home-jupyter/jupyter-v-tsuzoj/prod_analytics/KC_case_data .csv')"
   ]
  },
  {
   "cell_type": "code",
   "execution_count": 4,
   "metadata": {},
   "outputs": [
    {
     "data": {
      "text/html": [
       "<div>\n",
       "<style scoped>\n",
       "    .dataframe tbody tr th:only-of-type {\n",
       "        vertical-align: middle;\n",
       "    }\n",
       "\n",
       "    .dataframe tbody tr th {\n",
       "        vertical-align: top;\n",
       "    }\n",
       "\n",
       "    .dataframe thead th {\n",
       "        text-align: right;\n",
       "    }\n",
       "</style>\n",
       "<table border=\"1\" class=\"dataframe\">\n",
       "  <thead>\n",
       "    <tr style=\"text-align: right;\">\n",
       "      <th></th>\n",
       "      <th>date</th>\n",
       "      <th>event</th>\n",
       "      <th>purchase_sum</th>\n",
       "      <th>os_name</th>\n",
       "      <th>device_id</th>\n",
       "      <th>gender</th>\n",
       "      <th>city</th>\n",
       "      <th>utm_source</th>\n",
       "    </tr>\n",
       "  </thead>\n",
       "  <tbody>\n",
       "    <tr>\n",
       "      <th>0</th>\n",
       "      <td>2020-01-01</td>\n",
       "      <td>app_start</td>\n",
       "      <td>NaN</td>\n",
       "      <td>android</td>\n",
       "      <td>669460</td>\n",
       "      <td>female</td>\n",
       "      <td>Moscow</td>\n",
       "      <td>-</td>\n",
       "    </tr>\n",
       "    <tr>\n",
       "      <th>1</th>\n",
       "      <td>2020-01-01</td>\n",
       "      <td>app_start</td>\n",
       "      <td>NaN</td>\n",
       "      <td>ios</td>\n",
       "      <td>833621</td>\n",
       "      <td>male</td>\n",
       "      <td>Moscow</td>\n",
       "      <td>vk_ads</td>\n",
       "    </tr>\n",
       "    <tr>\n",
       "      <th>2</th>\n",
       "      <td>2020-01-01</td>\n",
       "      <td>app_start</td>\n",
       "      <td>NaN</td>\n",
       "      <td>android</td>\n",
       "      <td>1579237</td>\n",
       "      <td>male</td>\n",
       "      <td>Saint-Petersburg</td>\n",
       "      <td>referal</td>\n",
       "    </tr>\n",
       "    <tr>\n",
       "      <th>3</th>\n",
       "      <td>2020-01-01</td>\n",
       "      <td>app_start</td>\n",
       "      <td>NaN</td>\n",
       "      <td>android</td>\n",
       "      <td>1737182</td>\n",
       "      <td>female</td>\n",
       "      <td>Moscow</td>\n",
       "      <td>facebook_ads</td>\n",
       "    </tr>\n",
       "    <tr>\n",
       "      <th>4</th>\n",
       "      <td>2020-01-01</td>\n",
       "      <td>app_start</td>\n",
       "      <td>NaN</td>\n",
       "      <td>ios</td>\n",
       "      <td>4029024</td>\n",
       "      <td>female</td>\n",
       "      <td>Moscow</td>\n",
       "      <td>facebook_ads</td>\n",
       "    </tr>\n",
       "  </tbody>\n",
       "</table>\n",
       "</div>"
      ],
      "text/plain": [
       "         date      event  purchase_sum  os_name  device_id  gender  \\\n",
       "0  2020-01-01  app_start           NaN  android     669460  female   \n",
       "1  2020-01-01  app_start           NaN      ios     833621    male   \n",
       "2  2020-01-01  app_start           NaN  android    1579237    male   \n",
       "3  2020-01-01  app_start           NaN  android    1737182  female   \n",
       "4  2020-01-01  app_start           NaN      ios    4029024  female   \n",
       "\n",
       "               city    utm_source  \n",
       "0            Moscow             -  \n",
       "1            Moscow        vk_ads  \n",
       "2  Saint-Petersburg       referal  \n",
       "3            Moscow  facebook_ads  \n",
       "4            Moscow  facebook_ads  "
      ]
     },
     "execution_count": 4,
     "metadata": {},
     "output_type": "execute_result"
    }
   ],
   "source": [
    "df.head()"
   ]
  },
  {
   "cell_type": "code",
   "execution_count": 5,
   "metadata": {},
   "outputs": [
    {
     "name": "stdout",
     "output_type": "stream",
     "text": [
      "<class 'pandas.core.frame.DataFrame'>\n",
      "RangeIndex: 2747968 entries, 0 to 2747967\n",
      "Data columns (total 8 columns):\n",
      " #   Column        Dtype  \n",
      "---  ------        -----  \n",
      " 0   date          object \n",
      " 1   event         object \n",
      " 2   purchase_sum  float64\n",
      " 3   os_name       object \n",
      " 4   device_id     int64  \n",
      " 5   gender        object \n",
      " 6   city          object \n",
      " 7   utm_source    object \n",
      "dtypes: float64(1), int64(1), object(6)\n",
      "memory usage: 167.7+ MB\n"
     ]
    }
   ],
   "source": [
    "df.info()"
   ]
  },
  {
   "cell_type": "code",
   "execution_count": 6,
   "metadata": {},
   "outputs": [],
   "source": [
    "df['date'] = pd.to_datetime(df['date'])\n",
    "df['month'] = df['date'].dt.month"
   ]
  },
  {
   "cell_type": "markdown",
   "metadata": {},
   "source": [
    "### MAU февраля:"
   ]
  },
  {
   "cell_type": "code",
   "execution_count": 7,
   "metadata": {},
   "outputs": [
    {
     "data": {
      "text/plain": [
       "75032"
      ]
     },
     "execution_count": 7,
     "metadata": {},
     "output_type": "execute_result"
    }
   ],
   "source": [
    "df.query(\"month == 2\")['device_id'].nunique()"
   ]
  },
  {
   "cell_type": "markdown",
   "metadata": {},
   "source": [
    "### Количество установок в январе:"
   ]
  },
  {
   "cell_type": "code",
   "execution_count": 8,
   "metadata": {},
   "outputs": [
    {
     "data": {
      "text/plain": [
       "80297"
      ]
     },
     "execution_count": 8,
     "metadata": {},
     "output_type": "execute_result"
    }
   ],
   "source": [
    "df.query(\"month == 1 and event == 'app_install'\").shape[0]"
   ]
  },
  {
   "cell_type": "markdown",
   "metadata": {},
   "source": [
    "### Присвойте пользователям когорты по дню установки приложения и посчитайте для них  конверсию из установки в покупку в течение 7 дней. Для какой когорты конверсия была наибольшей? Ответ впишите в формате: дд.мм.гггг\n",
    "\n",
    "### Примечание: считаем пользователя сконвертировавшимся, если с момента установки до совершения первой покупки прошло не более 7 дней."
   ]
  },
  {
   "cell_type": "code",
   "execution_count": 23,
   "metadata": {},
   "outputs": [],
   "source": [
    "# Присвойте пользователям когорты по дню установки приложения\n",
    "# и посчитайте для них  конверсию из установки в покупку в течение 7 дней.\n",
    "# Для какой когорты конверсия была наибольшей? \n",
    "\n",
    "\n",
    "# Дата установки приложения\n",
    "installs_users = df[['device_id','date','event']].query('event == \"app_install\"')\n",
    "\n",
    "# Определение первой покупки у покупателя\n",
    "first_purchase = df[['device_id','date','event']] \\\n",
    "                .query('event == \"purchase\"') \\\n",
    "                .groupby('device_id').agg({'date':'min'})\n",
    "\n",
    "installs_users = installs_users.merge(first_purchase, how = 'left', on = 'device_id')\n",
    "installs_users.rename(columns = {'date_x' : 'date_registration', 'date_y' : 'date_purchase'}, inplace = True )\n",
    "installs_users['diff_registration_purchase'] = installs_users.date_purchase - installs_users.date_registration\n",
    "\n",
    "#Функция для определения покупки в течение 7 дней(1 - да, 0 - нет)\n",
    "def retention(row):\n",
    "    if row['diff_registration_purchase'] <= pd.to_datetime('2024/01/08') - pd.to_datetime('2024/01/01'):\n",
    "        val = 1\n",
    "    else:\n",
    "        val = 0\n",
    "    return val\n",
    "\n",
    "installs_users['retention'] = installs_users.apply (retention, axis=1)"
   ]
  },
  {
   "cell_type": "code",
   "execution_count": 25,
   "metadata": {},
   "outputs": [
    {
     "data": {
      "text/html": [
       "<div>\n",
       "<style scoped>\n",
       "    .dataframe tbody tr th:only-of-type {\n",
       "        vertical-align: middle;\n",
       "    }\n",
       "\n",
       "    .dataframe tbody tr th {\n",
       "        vertical-align: top;\n",
       "    }\n",
       "\n",
       "    .dataframe thead th {\n",
       "        text-align: right;\n",
       "    }\n",
       "</style>\n",
       "<table border=\"1\" class=\"dataframe\">\n",
       "  <thead>\n",
       "    <tr style=\"text-align: right;\">\n",
       "      <th></th>\n",
       "      <th>date_registration</th>\n",
       "      <th>device_id</th>\n",
       "      <th>retention</th>\n",
       "      <th>retent</th>\n",
       "    </tr>\n",
       "  </thead>\n",
       "  <tbody>\n",
       "    <tr>\n",
       "      <th>0</th>\n",
       "      <td>2020-01-01</td>\n",
       "      <td>3579</td>\n",
       "      <td>1408</td>\n",
       "      <td>39.340598</td>\n",
       "    </tr>\n",
       "    <tr>\n",
       "      <th>8</th>\n",
       "      <td>2020-01-09</td>\n",
       "      <td>1424</td>\n",
       "      <td>558</td>\n",
       "      <td>39.185393</td>\n",
       "    </tr>\n",
       "    <tr>\n",
       "      <th>14</th>\n",
       "      <td>2020-01-15</td>\n",
       "      <td>4310</td>\n",
       "      <td>1650</td>\n",
       "      <td>38.283063</td>\n",
       "    </tr>\n",
       "    <tr>\n",
       "      <th>13</th>\n",
       "      <td>2020-01-14</td>\n",
       "      <td>5173</td>\n",
       "      <td>1973</td>\n",
       "      <td>38.140344</td>\n",
       "    </tr>\n",
       "    <tr>\n",
       "      <th>1</th>\n",
       "      <td>2020-01-02</td>\n",
       "      <td>3144</td>\n",
       "      <td>1186</td>\n",
       "      <td>37.722646</td>\n",
       "    </tr>\n",
       "    <tr>\n",
       "      <th>...</th>\n",
       "      <td>...</td>\n",
       "      <td>...</td>\n",
       "      <td>...</td>\n",
       "      <td>...</td>\n",
       "    </tr>\n",
       "    <tr>\n",
       "      <th>77</th>\n",
       "      <td>2020-03-18</td>\n",
       "      <td>1171</td>\n",
       "      <td>235</td>\n",
       "      <td>20.068318</td>\n",
       "    </tr>\n",
       "    <tr>\n",
       "      <th>88</th>\n",
       "      <td>2020-03-29</td>\n",
       "      <td>1117</td>\n",
       "      <td>223</td>\n",
       "      <td>19.964190</td>\n",
       "    </tr>\n",
       "    <tr>\n",
       "      <th>81</th>\n",
       "      <td>2020-03-22</td>\n",
       "      <td>1261</td>\n",
       "      <td>251</td>\n",
       "      <td>19.904837</td>\n",
       "    </tr>\n",
       "    <tr>\n",
       "      <th>87</th>\n",
       "      <td>2020-03-28</td>\n",
       "      <td>1091</td>\n",
       "      <td>209</td>\n",
       "      <td>19.156737</td>\n",
       "    </tr>\n",
       "    <tr>\n",
       "      <th>65</th>\n",
       "      <td>2020-03-06</td>\n",
       "      <td>6358</td>\n",
       "      <td>807</td>\n",
       "      <td>12.692671</td>\n",
       "    </tr>\n",
       "  </tbody>\n",
       "</table>\n",
       "<p>91 rows × 4 columns</p>\n",
       "</div>"
      ],
      "text/plain": [
       "   date_registration  device_id  retention     retent\n",
       "0         2020-01-01       3579       1408  39.340598\n",
       "8         2020-01-09       1424        558  39.185393\n",
       "14        2020-01-15       4310       1650  38.283063\n",
       "13        2020-01-14       5173       1973  38.140344\n",
       "1         2020-01-02       3144       1186  37.722646\n",
       "..               ...        ...        ...        ...\n",
       "77        2020-03-18       1171        235  20.068318\n",
       "88        2020-03-29       1117        223  19.964190\n",
       "81        2020-03-22       1261        251  19.904837\n",
       "87        2020-03-28       1091        209  19.156737\n",
       "65        2020-03-06       6358        807  12.692671\n",
       "\n",
       "[91 rows x 4 columns]"
      ]
     },
     "execution_count": 25,
     "metadata": {},
     "output_type": "execute_result"
    }
   ],
   "source": [
    "ret = installs_users.groupby('date_registration',as_index = False).agg({'device_id':'count', 'retention': 'sum'})\n",
    "\n",
    "ret['retent'] = ret.retention / ret.device_id * 100\n",
    "ret.sort_values('retent', ascending = False)"
   ]
  },
  {
   "cell_type": "markdown",
   "metadata": {},
   "source": [
    "### С какого платного маркетингового канала пришло больше всего новых пользователей? "
   ]
  },
  {
   "cell_type": "code",
   "execution_count": 14,
   "metadata": {},
   "outputs": [
    {
     "data": {
      "text/plain": [
       "-                32460\n",
       "yandex-direct    29368\n",
       "google_ads       26286\n",
       "vk_ads           23189\n",
       "instagram_ads    20096\n",
       "facebook_ads     13916\n",
       "referal           9282\n",
       "Name: utm_source, dtype: int64"
      ]
     },
     "execution_count": 14,
     "metadata": {},
     "output_type": "execute_result"
    }
   ],
   "source": [
    "df.query(\"event == 'app_install'\")['utm_source'].value_counts()"
   ]
  },
  {
   "cell_type": "markdown",
   "metadata": {},
   "source": [
    "### Проанализируйте на каком этапе воронки отваливается бОльшая часть клиентов. Посмотрите отдельно сценарии для зарегистрированных и для незарегистрированных пользователей. На каком шаге отваливается больше всего зарегистрированных пользователей?"
   ]
  },
  {
   "cell_type": "code",
   "execution_count": 15,
   "metadata": {},
   "outputs": [],
   "source": [
    "new_df = df.copy()"
   ]
  },
  {
   "cell_type": "code",
   "execution_count": 16,
   "metadata": {},
   "outputs": [],
   "source": [
    "reg_data = new_df[new_df['event'] == 'register']"
   ]
  },
  {
   "cell_type": "code",
   "execution_count": 17,
   "metadata": {},
   "outputs": [],
   "source": [
    "new_df['registration_date'] = new_df['device_id'].map(reg_data.set_index('device_id')['date'])"
   ]
  },
  {
   "cell_type": "code",
   "execution_count": 18,
   "metadata": {},
   "outputs": [],
   "source": [
    "voronka = new_df.query(\"event == 'search' or event == 'choose_item' or event == 'tap_basket'\")"
   ]
  },
  {
   "cell_type": "code",
   "execution_count": 19,
   "metadata": {},
   "outputs": [],
   "source": [
    "voronka_df = voronka.dropna(subset = ['registration_date'])"
   ]
  },
  {
   "cell_type": "code",
   "execution_count": 20,
   "metadata": {},
   "outputs": [
    {
     "data": {
      "text/html": [
       "<div>\n",
       "<style scoped>\n",
       "    .dataframe tbody tr th:only-of-type {\n",
       "        vertical-align: middle;\n",
       "    }\n",
       "\n",
       "    .dataframe tbody tr th {\n",
       "        vertical-align: top;\n",
       "    }\n",
       "\n",
       "    .dataframe thead th {\n",
       "        text-align: right;\n",
       "    }\n",
       "</style>\n",
       "<table border=\"1\" class=\"dataframe\">\n",
       "  <thead>\n",
       "    <tr style=\"text-align: right;\">\n",
       "      <th></th>\n",
       "      <th>date</th>\n",
       "      <th>event</th>\n",
       "      <th>purchase_sum</th>\n",
       "      <th>os_name</th>\n",
       "      <th>device_id</th>\n",
       "      <th>gender</th>\n",
       "      <th>city</th>\n",
       "      <th>utm_source</th>\n",
       "      <th>month</th>\n",
       "      <th>registration_date</th>\n",
       "    </tr>\n",
       "  </thead>\n",
       "  <tbody>\n",
       "    <tr>\n",
       "      <th>4445</th>\n",
       "      <td>2020-01-01</td>\n",
       "      <td>choose_item</td>\n",
       "      <td>NaN</td>\n",
       "      <td>ios</td>\n",
       "      <td>294193</td>\n",
       "      <td>female</td>\n",
       "      <td>Saint-Petersburg</td>\n",
       "      <td>instagram_ads</td>\n",
       "      <td>1</td>\n",
       "      <td>2020-01-01</td>\n",
       "    </tr>\n",
       "    <tr>\n",
       "      <th>4446</th>\n",
       "      <td>2020-01-01</td>\n",
       "      <td>choose_item</td>\n",
       "      <td>NaN</td>\n",
       "      <td>android</td>\n",
       "      <td>8658257</td>\n",
       "      <td>female</td>\n",
       "      <td>Saint-Petersburg</td>\n",
       "      <td>-</td>\n",
       "      <td>1</td>\n",
       "      <td>2020-01-01</td>\n",
       "    </tr>\n",
       "    <tr>\n",
       "      <th>4447</th>\n",
       "      <td>2020-01-01</td>\n",
       "      <td>choose_item</td>\n",
       "      <td>NaN</td>\n",
       "      <td>android</td>\n",
       "      <td>10345186</td>\n",
       "      <td>male</td>\n",
       "      <td>Saint-Petersburg</td>\n",
       "      <td>yandex-direct</td>\n",
       "      <td>1</td>\n",
       "      <td>2020-01-01</td>\n",
       "    </tr>\n",
       "    <tr>\n",
       "      <th>4448</th>\n",
       "      <td>2020-01-01</td>\n",
       "      <td>choose_item</td>\n",
       "      <td>NaN</td>\n",
       "      <td>ios</td>\n",
       "      <td>20209604</td>\n",
       "      <td>male</td>\n",
       "      <td>Moscow</td>\n",
       "      <td>facebook_ads</td>\n",
       "      <td>1</td>\n",
       "      <td>2020-01-01</td>\n",
       "    </tr>\n",
       "    <tr>\n",
       "      <th>4449</th>\n",
       "      <td>2020-01-01</td>\n",
       "      <td>choose_item</td>\n",
       "      <td>NaN</td>\n",
       "      <td>android</td>\n",
       "      <td>22449838</td>\n",
       "      <td>female</td>\n",
       "      <td>Moscow</td>\n",
       "      <td>google_ads</td>\n",
       "      <td>1</td>\n",
       "      <td>2020-01-01</td>\n",
       "    </tr>\n",
       "    <tr>\n",
       "      <th>...</th>\n",
       "      <td>...</td>\n",
       "      <td>...</td>\n",
       "      <td>...</td>\n",
       "      <td>...</td>\n",
       "      <td>...</td>\n",
       "      <td>...</td>\n",
       "      <td>...</td>\n",
       "      <td>...</td>\n",
       "      <td>...</td>\n",
       "      <td>...</td>\n",
       "    </tr>\n",
       "    <tr>\n",
       "      <th>2515054</th>\n",
       "      <td>2020-03-31</td>\n",
       "      <td>tap_basket</td>\n",
       "      <td>NaN</td>\n",
       "      <td>android</td>\n",
       "      <td>3043852</td>\n",
       "      <td>male</td>\n",
       "      <td>Moscow</td>\n",
       "      <td>-</td>\n",
       "      <td>3</td>\n",
       "      <td>2020-03-30</td>\n",
       "    </tr>\n",
       "    <tr>\n",
       "      <th>2515055</th>\n",
       "      <td>2020-03-31</td>\n",
       "      <td>tap_basket</td>\n",
       "      <td>NaN</td>\n",
       "      <td>android</td>\n",
       "      <td>20074065</td>\n",
       "      <td>female</td>\n",
       "      <td>Saint-Petersburg</td>\n",
       "      <td>facebook_ads</td>\n",
       "      <td>3</td>\n",
       "      <td>2020-03-31</td>\n",
       "    </tr>\n",
       "    <tr>\n",
       "      <th>2515056</th>\n",
       "      <td>2020-03-31</td>\n",
       "      <td>tap_basket</td>\n",
       "      <td>NaN</td>\n",
       "      <td>android</td>\n",
       "      <td>3162094</td>\n",
       "      <td>male</td>\n",
       "      <td>Moscow</td>\n",
       "      <td>referal</td>\n",
       "      <td>3</td>\n",
       "      <td>2020-01-13</td>\n",
       "    </tr>\n",
       "    <tr>\n",
       "      <th>2515057</th>\n",
       "      <td>2020-03-31</td>\n",
       "      <td>tap_basket</td>\n",
       "      <td>NaN</td>\n",
       "      <td>ios</td>\n",
       "      <td>8205</td>\n",
       "      <td>male</td>\n",
       "      <td>Saint-Petersburg</td>\n",
       "      <td>vk_ads</td>\n",
       "      <td>3</td>\n",
       "      <td>2020-01-01</td>\n",
       "    </tr>\n",
       "    <tr>\n",
       "      <th>2515060</th>\n",
       "      <td>2020-03-31</td>\n",
       "      <td>tap_basket</td>\n",
       "      <td>NaN</td>\n",
       "      <td>android</td>\n",
       "      <td>27869790</td>\n",
       "      <td>female</td>\n",
       "      <td>Saint-Petersburg</td>\n",
       "      <td>referal</td>\n",
       "      <td>3</td>\n",
       "      <td>2020-03-31</td>\n",
       "    </tr>\n",
       "  </tbody>\n",
       "</table>\n",
       "<p>1328025 rows × 10 columns</p>\n",
       "</div>"
      ],
      "text/plain": [
       "              date        event  purchase_sum  os_name  device_id  gender  \\\n",
       "4445    2020-01-01  choose_item           NaN      ios     294193  female   \n",
       "4446    2020-01-01  choose_item           NaN  android    8658257  female   \n",
       "4447    2020-01-01  choose_item           NaN  android   10345186    male   \n",
       "4448    2020-01-01  choose_item           NaN      ios   20209604    male   \n",
       "4449    2020-01-01  choose_item           NaN  android   22449838  female   \n",
       "...            ...          ...           ...      ...        ...     ...   \n",
       "2515054 2020-03-31   tap_basket           NaN  android    3043852    male   \n",
       "2515055 2020-03-31   tap_basket           NaN  android   20074065  female   \n",
       "2515056 2020-03-31   tap_basket           NaN  android    3162094    male   \n",
       "2515057 2020-03-31   tap_basket           NaN      ios       8205    male   \n",
       "2515060 2020-03-31   tap_basket           NaN  android   27869790  female   \n",
       "\n",
       "                     city     utm_source  month registration_date  \n",
       "4445     Saint-Petersburg  instagram_ads      1        2020-01-01  \n",
       "4446     Saint-Petersburg              -      1        2020-01-01  \n",
       "4447     Saint-Petersburg  yandex-direct      1        2020-01-01  \n",
       "4448               Moscow   facebook_ads      1        2020-01-01  \n",
       "4449               Moscow     google_ads      1        2020-01-01  \n",
       "...                   ...            ...    ...               ...  \n",
       "2515054            Moscow              -      3        2020-03-30  \n",
       "2515055  Saint-Petersburg   facebook_ads      3        2020-03-31  \n",
       "2515056            Moscow        referal      3        2020-01-13  \n",
       "2515057  Saint-Petersburg         vk_ads      3        2020-01-01  \n",
       "2515060  Saint-Petersburg        referal      3        2020-03-31  \n",
       "\n",
       "[1328025 rows x 10 columns]"
      ]
     },
     "execution_count": 20,
     "metadata": {},
     "output_type": "execute_result"
    }
   ],
   "source": [
    "voronka_df"
   ]
  },
  {
   "cell_type": "code",
   "execution_count": 21,
   "metadata": {},
   "outputs": [
    {
     "data": {
      "text/plain": [
       "event\n",
       "tap_basket     78310\n",
       "search         78310\n",
       "choose_item    78310\n",
       "Name: device_id, dtype: int64"
      ]
     },
     "execution_count": 21,
     "metadata": {},
     "output_type": "execute_result"
    }
   ],
   "source": [
    "voronka_df.query(\"event == 'search' or event == 'choose_item' or event == 'tap_basket'\") \\\n",
    "  .groupby('event')['device_id'].nunique().sort_values(ascending = False)"
   ]
  },
  {
   "cell_type": "code",
   "execution_count": 22,
   "metadata": {},
   "outputs": [],
   "source": [
    "CR_df = voronka_df.groupby(['event']).agg({'date' : 'count', 'device_id' : 'nunique'})"
   ]
  },
  {
   "cell_type": "code",
   "execution_count": 23,
   "metadata": {},
   "outputs": [
    {
     "data": {
      "text/plain": [
       "event\n",
       "choose_item    0.177789\n",
       "search         0.138535\n",
       "tap_basket     0.242982\n",
       "dtype: float64"
      ]
     },
     "execution_count": 23,
     "metadata": {},
     "output_type": "execute_result"
    }
   ],
   "source": [
    "CR_df['device_id'] / CR_df['date']"
   ]
  },
  {
   "cell_type": "markdown",
   "metadata": {},
   "source": [
    "### Пользователи, пришедшие с каких каналов, показали самую низкую конверсию в первую покупку?"
   ]
  },
  {
   "cell_type": "code",
   "execution_count": 68,
   "metadata": {},
   "outputs": [
    {
     "data": {
      "text/plain": [
       "utm_source\n",
       "yandex-direct    0.295477\n",
       "google_ads       0.297674\n",
       "-                0.317556\n",
       "instagram_ads    0.346658\n",
       "facebook_ads     0.347382\n",
       "vk_ads           0.362804\n",
       "referal          0.399523\n",
       "Name: device_id, dtype: float64"
      ]
     },
     "execution_count": 68,
     "metadata": {},
     "output_type": "execute_result"
    }
   ],
   "source": [
    "(df.query(\"event == 'purchase'\").groupby('utm_source')['device_id'].nunique() / \n",
    " df.query(\"event == 'app_start'\").groupby('utm_source')['device_id'].nunique()) \\\n",
    ".sort_values()"
   ]
  },
  {
   "cell_type": "markdown",
   "metadata": {},
   "source": [
    "### Пользователи, пришедшие с какого канала, имеют медианный первый чек выше? (учитываются только первые покупки пользователей)"
   ]
  },
  {
   "cell_type": "code",
   "execution_count": 64,
   "metadata": {},
   "outputs": [
    {
     "data": {
      "text/plain": [
       "utm_source\n",
       "-                398.5\n",
       "referal          395.0\n",
       "instagram_ads    393.5\n",
       "vk_ads           393.0\n",
       "yandex-direct    392.5\n",
       "facebook_ads     390.5\n",
       "google_ads       390.0\n",
       "Name: purchase_sum, dtype: float64"
      ]
     },
     "execution_count": 64,
     "metadata": {},
     "output_type": "execute_result"
    }
   ],
   "source": [
    "fp_median = df.query(\"event == 'purchase'\") \\\n",
    "              .groupby(['device_id', 'utm_source'], as_index = False) \\\n",
    "              .agg({'purchase_sum' : 'first'})\n",
    "\n",
    "fp_median.groupby('utm_source')['purchase_sum'].median().sort_values(ascending = False)"
   ]
  },
  {
   "cell_type": "markdown",
   "metadata": {},
   "source": [
    "---"
   ]
  },
  {
   "cell_type": "markdown",
   "metadata": {},
   "source": [
    "Данные по затратам на рекламу:\n",
    "\n",
    "Яндекс – 10 491 707 руб.\n",
    "\n",
    "Гугл – 10 534 878 руб.\n",
    "\n",
    "Фейсбук – 8 590 498 руб.\n",
    "\n",
    "Инстаграм – 8 561626 руб.\n",
    "\n",
    "ВК – 9 553 531руб.\n",
    "\n",
    "#### Какой платный канал привлечения (среди рекламных) имеет самый высокий ROMI? "
   ]
  },
  {
   "cell_type": "code",
   "execution_count": 133,
   "metadata": {},
   "outputs": [
    {
     "data": {
      "text/html": [
       "<div>\n",
       "<style scoped>\n",
       "    .dataframe tbody tr th:only-of-type {\n",
       "        vertical-align: middle;\n",
       "    }\n",
       "\n",
       "    .dataframe tbody tr th {\n",
       "        vertical-align: top;\n",
       "    }\n",
       "\n",
       "    .dataframe thead th {\n",
       "        text-align: right;\n",
       "    }\n",
       "</style>\n",
       "<table border=\"1\" class=\"dataframe\">\n",
       "  <thead>\n",
       "    <tr style=\"text-align: right;\">\n",
       "      <th></th>\n",
       "      <th>utm_source</th>\n",
       "      <th>purchase_sum</th>\n",
       "    </tr>\n",
       "  </thead>\n",
       "  <tbody>\n",
       "    <tr>\n",
       "      <th>0</th>\n",
       "      <td>-</td>\n",
       "      <td>21449749.5</td>\n",
       "    </tr>\n",
       "    <tr>\n",
       "      <th>1</th>\n",
       "      <td>facebook_ads</td>\n",
       "      <td>12249901.0</td>\n",
       "    </tr>\n",
       "    <tr>\n",
       "      <th>2</th>\n",
       "      <td>google_ads</td>\n",
       "      <td>12868276.0</td>\n",
       "    </tr>\n",
       "    <tr>\n",
       "      <th>3</th>\n",
       "      <td>instagram_ads</td>\n",
       "      <td>14546969.0</td>\n",
       "    </tr>\n",
       "    <tr>\n",
       "      <th>4</th>\n",
       "      <td>referal</td>\n",
       "      <td>8837044.5</td>\n",
       "    </tr>\n",
       "    <tr>\n",
       "      <th>5</th>\n",
       "      <td>vk_ads</td>\n",
       "      <td>16389652.5</td>\n",
       "    </tr>\n",
       "    <tr>\n",
       "      <th>6</th>\n",
       "      <td>yandex-direct</td>\n",
       "      <td>13915368.0</td>\n",
       "    </tr>\n",
       "  </tbody>\n",
       "</table>\n",
       "</div>"
      ],
      "text/plain": [
       "      utm_source  purchase_sum\n",
       "0              -    21449749.5\n",
       "1   facebook_ads    12249901.0\n",
       "2     google_ads    12868276.0\n",
       "3  instagram_ads    14546969.0\n",
       "4        referal     8837044.5\n",
       "5         vk_ads    16389652.5\n",
       "6  yandex-direct    13915368.0"
      ]
     },
     "execution_count": 133,
     "metadata": {},
     "output_type": "execute_result"
    }
   ],
   "source": [
    "revenue = df.query(\"event == 'purchase'\").groupby('utm_source', as_index = False).agg({'purchase_sum' : 'sum'})\n",
    "revenue"
   ]
  },
  {
   "cell_type": "code",
   "execution_count": 134,
   "metadata": {},
   "outputs": [],
   "source": [
    "marketing_cost = {\n",
    "    'utm_source': ['yandex-direct', 'google_ads', 'facebook_ads', 'instagram_ads', 'vk_ads'],\n",
    "    'cost' : [10491707, 10534878, 8590498, 8561626, 9553531]\n",
    "}"
   ]
  },
  {
   "cell_type": "code",
   "execution_count": 135,
   "metadata": {},
   "outputs": [
    {
     "data": {
      "text/html": [
       "<div>\n",
       "<style scoped>\n",
       "    .dataframe tbody tr th:only-of-type {\n",
       "        vertical-align: middle;\n",
       "    }\n",
       "\n",
       "    .dataframe tbody tr th {\n",
       "        vertical-align: top;\n",
       "    }\n",
       "\n",
       "    .dataframe thead th {\n",
       "        text-align: right;\n",
       "    }\n",
       "</style>\n",
       "<table border=\"1\" class=\"dataframe\">\n",
       "  <thead>\n",
       "    <tr style=\"text-align: right;\">\n",
       "      <th></th>\n",
       "      <th>utm_source</th>\n",
       "      <th>cost</th>\n",
       "    </tr>\n",
       "  </thead>\n",
       "  <tbody>\n",
       "    <tr>\n",
       "      <th>0</th>\n",
       "      <td>yandex-direct</td>\n",
       "      <td>10491707</td>\n",
       "    </tr>\n",
       "    <tr>\n",
       "      <th>1</th>\n",
       "      <td>google_ads</td>\n",
       "      <td>10534878</td>\n",
       "    </tr>\n",
       "    <tr>\n",
       "      <th>2</th>\n",
       "      <td>facebook_ads</td>\n",
       "      <td>8590498</td>\n",
       "    </tr>\n",
       "    <tr>\n",
       "      <th>3</th>\n",
       "      <td>instagram_ads</td>\n",
       "      <td>8561626</td>\n",
       "    </tr>\n",
       "    <tr>\n",
       "      <th>4</th>\n",
       "      <td>vk_ads</td>\n",
       "      <td>9553531</td>\n",
       "    </tr>\n",
       "  </tbody>\n",
       "</table>\n",
       "</div>"
      ],
      "text/plain": [
       "      utm_source      cost\n",
       "0  yandex-direct  10491707\n",
       "1     google_ads  10534878\n",
       "2   facebook_ads   8590498\n",
       "3  instagram_ads   8561626\n",
       "4         vk_ads   9553531"
      ]
     },
     "execution_count": 135,
     "metadata": {},
     "output_type": "execute_result"
    }
   ],
   "source": [
    "mc = pd.DataFrame(marketing_cost)\n",
    "mc"
   ]
  },
  {
   "cell_type": "code",
   "execution_count": 136,
   "metadata": {
    "scrolled": true
   },
   "outputs": [
    {
     "data": {
      "text/html": [
       "<div>\n",
       "<style scoped>\n",
       "    .dataframe tbody tr th:only-of-type {\n",
       "        vertical-align: middle;\n",
       "    }\n",
       "\n",
       "    .dataframe tbody tr th {\n",
       "        vertical-align: top;\n",
       "    }\n",
       "\n",
       "    .dataframe thead th {\n",
       "        text-align: right;\n",
       "    }\n",
       "</style>\n",
       "<table border=\"1\" class=\"dataframe\">\n",
       "  <thead>\n",
       "    <tr style=\"text-align: right;\">\n",
       "      <th></th>\n",
       "      <th>utm_source</th>\n",
       "      <th>purchase_sum</th>\n",
       "      <th>cost</th>\n",
       "      <th>romi</th>\n",
       "    </tr>\n",
       "  </thead>\n",
       "  <tbody>\n",
       "    <tr>\n",
       "      <th>3</th>\n",
       "      <td>vk_ads</td>\n",
       "      <td>16389652.5</td>\n",
       "      <td>9553531</td>\n",
       "      <td>0.715560</td>\n",
       "    </tr>\n",
       "    <tr>\n",
       "      <th>2</th>\n",
       "      <td>instagram_ads</td>\n",
       "      <td>14546969.0</td>\n",
       "      <td>8561626</td>\n",
       "      <td>0.699090</td>\n",
       "    </tr>\n",
       "    <tr>\n",
       "      <th>0</th>\n",
       "      <td>facebook_ads</td>\n",
       "      <td>12249901.0</td>\n",
       "      <td>8590498</td>\n",
       "      <td>0.425983</td>\n",
       "    </tr>\n",
       "    <tr>\n",
       "      <th>4</th>\n",
       "      <td>yandex-direct</td>\n",
       "      <td>13915368.0</td>\n",
       "      <td>10491707</td>\n",
       "      <td>0.326321</td>\n",
       "    </tr>\n",
       "    <tr>\n",
       "      <th>1</th>\n",
       "      <td>google_ads</td>\n",
       "      <td>12868276.0</td>\n",
       "      <td>10534878</td>\n",
       "      <td>0.221493</td>\n",
       "    </tr>\n",
       "  </tbody>\n",
       "</table>\n",
       "</div>"
      ],
      "text/plain": [
       "      utm_source  purchase_sum      cost      romi\n",
       "3         vk_ads    16389652.5   9553531  0.715560\n",
       "2  instagram_ads    14546969.0   8561626  0.699090\n",
       "0   facebook_ads    12249901.0   8590498  0.425983\n",
       "4  yandex-direct    13915368.0  10491707  0.326321\n",
       "1     google_ads    12868276.0  10534878  0.221493"
      ]
     },
     "execution_count": 136,
     "metadata": {},
     "output_type": "execute_result"
    }
   ],
   "source": [
    "romi_df = revenue.merge(mc, on = 'utm_source')\n",
    "romi_df['romi'] = (romi_df['purchase_sum'] - romi_df['cost']) / romi_df['cost']\n",
    "romi_df.sort_values('romi', ascending = False)"
   ]
  }
 ],
 "metadata": {
  "kernelspec": {
   "display_name": "Python 3",
   "language": "python",
   "name": "python3"
  },
  "language_info": {
   "codemirror_mode": {
    "name": "ipython",
    "version": 3
   },
   "file_extension": ".py",
   "mimetype": "text/x-python",
   "name": "python",
   "nbconvert_exporter": "python",
   "pygments_lexer": "ipython3",
   "version": "3.7.3"
  }
 },
 "nbformat": 4,
 "nbformat_minor": 4
}
